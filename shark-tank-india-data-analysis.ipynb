{
 "cells": [
  {
   "cell_type": "code",
   "execution_count": null,
   "id": "8e29f3f9",
   "metadata": {
    "_cell_guid": "b1076dfc-b9ad-4769-8c92-a6c4dae69d19",
    "_uuid": "8f2839f25d086af736a60e9eeb907d3b93b6e0e5",
    "execution": {
     "iopub.execute_input": "2022-03-06T19:19:21.722191Z",
     "iopub.status.busy": "2022-03-06T19:19:21.721061Z",
     "iopub.status.idle": "2022-03-06T19:19:21.740387Z",
     "shell.execute_reply": "2022-03-06T19:19:21.741092Z",
     "shell.execute_reply.started": "2022-03-06T17:57:21.162568Z"
    },
    "papermill": {
     "duration": 0.056436,
     "end_time": "2022-03-06T19:19:21.741424",
     "exception": false,
     "start_time": "2022-03-06T19:19:21.684988",
     "status": "completed"
    },
    "tags": []
   },
   "outputs": [
    {
     "name": "stdout",
     "output_type": "stream",
     "text": [
      "/kaggle/input/shark-tank-india-dataset/Shark Tank India Dataset.csv\n"
     ]
    }
   ],
   "source": [
    "import numpy as np \n",
    "import pandas as pd "
   ]
  },
  {
   "cell_type": "code",
   "execution_count": 2,
   "id": "425faf97",
   "metadata": {
    "execution": {
     "iopub.execute_input": "2022-03-06T19:19:21.809395Z",
     "iopub.status.busy": "2022-03-06T19:19:21.808804Z",
     "iopub.status.idle": "2022-03-06T19:19:22.771476Z",
     "shell.execute_reply": "2022-03-06T19:19:22.770888Z",
     "shell.execute_reply.started": "2022-03-06T17:57:22.292491Z"
    },
    "papermill": {
     "duration": 0.997202,
     "end_time": "2022-03-06T19:19:22.771615",
     "exception": false,
     "start_time": "2022-03-06T19:19:21.774413",
     "status": "completed"
    },
    "tags": []
   },
   "outputs": [],
   "source": [
    "import matplotlib.pyplot as plt\n",
    "import seaborn as sns"
   ]
  },
  {
   "cell_type": "code",
   "execution_count": null,
   "id": "7f7a3fbd",
   "metadata": {
    "execution": {
     "iopub.execute_input": "2022-03-06T19:19:22.840812Z",
     "iopub.status.busy": "2022-03-06T19:19:22.840142Z",
     "iopub.status.idle": "2022-03-06T19:19:22.857486Z",
     "shell.execute_reply": "2022-03-06T19:19:22.858072Z",
     "shell.execute_reply.started": "2022-03-06T17:57:30.796530Z"
    },
    "papermill": {
     "duration": 0.053694,
     "end_time": "2022-03-06T19:19:22.858254",
     "exception": false,
     "start_time": "2022-03-06T19:19:22.804560",
     "status": "completed"
    },
    "tags": []
   },
   "outputs": [],
   "source": [
    "df = pd.read_csv('Shark Tank India Dataset.csv')\n",
    "# import the file"
   ]
  },
  {
   "cell_type": "code",
   "execution_count": 4,
   "id": "e7f33ae6",
   "metadata": {
    "execution": {
     "iopub.execute_input": "2022-03-06T19:19:22.926928Z",
     "iopub.status.busy": "2022-03-06T19:19:22.926289Z",
     "iopub.status.idle": "2022-03-06T19:19:22.959854Z",
     "shell.execute_reply": "2022-03-06T19:19:22.960348Z",
     "shell.execute_reply.started": "2022-03-06T17:57:31.729352Z"
    },
    "papermill": {
     "duration": 0.069153,
     "end_time": "2022-03-06T19:19:22.960514",
     "exception": false,
     "start_time": "2022-03-06T19:19:22.891361",
     "status": "completed"
    },
    "tags": []
   },
   "outputs": [
    {
     "data": {
      "text/html": [
       "<div>\n",
       "<style scoped>\n",
       "    .dataframe tbody tr th:only-of-type {\n",
       "        vertical-align: middle;\n",
       "    }\n",
       "\n",
       "    .dataframe tbody tr th {\n",
       "        vertical-align: top;\n",
       "    }\n",
       "\n",
       "    .dataframe thead th {\n",
       "        text-align: right;\n",
       "    }\n",
       "</style>\n",
       "<table border=\"1\" class=\"dataframe\">\n",
       "  <thead>\n",
       "    <tr style=\"text-align: right;\">\n",
       "      <th></th>\n",
       "      <th>episode_number</th>\n",
       "      <th>pitch_number</th>\n",
       "      <th>brand_name</th>\n",
       "      <th>idea</th>\n",
       "      <th>deal</th>\n",
       "      <th>pitcher_ask_amount</th>\n",
       "      <th>ask_equity</th>\n",
       "      <th>ask_valuation</th>\n",
       "      <th>deal_amount</th>\n",
       "      <th>deal_equity</th>\n",
       "      <th>...</th>\n",
       "      <th>ashneer_deal</th>\n",
       "      <th>anupam_deal</th>\n",
       "      <th>aman_deal</th>\n",
       "      <th>namita_deal</th>\n",
       "      <th>vineeta_deal</th>\n",
       "      <th>peyush_deal</th>\n",
       "      <th>ghazal_deal</th>\n",
       "      <th>total_sharks_invested</th>\n",
       "      <th>amount_per_shark</th>\n",
       "      <th>equity_per_shark</th>\n",
       "    </tr>\n",
       "  </thead>\n",
       "  <tbody>\n",
       "    <tr>\n",
       "      <th>0</th>\n",
       "      <td>1</td>\n",
       "      <td>1</td>\n",
       "      <td>BluePine Industries</td>\n",
       "      <td>Frozen Momos</td>\n",
       "      <td>1</td>\n",
       "      <td>50.0</td>\n",
       "      <td>5.0</td>\n",
       "      <td>1000.00</td>\n",
       "      <td>75.0</td>\n",
       "      <td>16.00</td>\n",
       "      <td>...</td>\n",
       "      <td>1</td>\n",
       "      <td>0</td>\n",
       "      <td>1</td>\n",
       "      <td>0</td>\n",
       "      <td>1</td>\n",
       "      <td>0</td>\n",
       "      <td>0</td>\n",
       "      <td>3</td>\n",
       "      <td>25.0</td>\n",
       "      <td>5.333333</td>\n",
       "    </tr>\n",
       "    <tr>\n",
       "      <th>1</th>\n",
       "      <td>1</td>\n",
       "      <td>2</td>\n",
       "      <td>Booz scooters</td>\n",
       "      <td>Renting e-bike for mobility in private spaces</td>\n",
       "      <td>1</td>\n",
       "      <td>40.0</td>\n",
       "      <td>15.0</td>\n",
       "      <td>266.67</td>\n",
       "      <td>40.0</td>\n",
       "      <td>50.00</td>\n",
       "      <td>...</td>\n",
       "      <td>1</td>\n",
       "      <td>0</td>\n",
       "      <td>0</td>\n",
       "      <td>0</td>\n",
       "      <td>1</td>\n",
       "      <td>0</td>\n",
       "      <td>0</td>\n",
       "      <td>2</td>\n",
       "      <td>20.0</td>\n",
       "      <td>25.000000</td>\n",
       "    </tr>\n",
       "    <tr>\n",
       "      <th>2</th>\n",
       "      <td>1</td>\n",
       "      <td>3</td>\n",
       "      <td>Heart up my Sleeves</td>\n",
       "      <td>Detachable Sleeves</td>\n",
       "      <td>1</td>\n",
       "      <td>25.0</td>\n",
       "      <td>10.0</td>\n",
       "      <td>250.00</td>\n",
       "      <td>25.0</td>\n",
       "      <td>30.00</td>\n",
       "      <td>...</td>\n",
       "      <td>0</td>\n",
       "      <td>1</td>\n",
       "      <td>0</td>\n",
       "      <td>0</td>\n",
       "      <td>1</td>\n",
       "      <td>0</td>\n",
       "      <td>0</td>\n",
       "      <td>2</td>\n",
       "      <td>12.5</td>\n",
       "      <td>15.000000</td>\n",
       "    </tr>\n",
       "    <tr>\n",
       "      <th>3</th>\n",
       "      <td>2</td>\n",
       "      <td>4</td>\n",
       "      <td>Tagz Foods</td>\n",
       "      <td>Healthy Potato Chips</td>\n",
       "      <td>1</td>\n",
       "      <td>70.0</td>\n",
       "      <td>1.0</td>\n",
       "      <td>7000.00</td>\n",
       "      <td>70.0</td>\n",
       "      <td>2.75</td>\n",
       "      <td>...</td>\n",
       "      <td>1</td>\n",
       "      <td>0</td>\n",
       "      <td>0</td>\n",
       "      <td>0</td>\n",
       "      <td>0</td>\n",
       "      <td>0</td>\n",
       "      <td>0</td>\n",
       "      <td>1</td>\n",
       "      <td>70.0</td>\n",
       "      <td>2.750000</td>\n",
       "    </tr>\n",
       "    <tr>\n",
       "      <th>4</th>\n",
       "      <td>2</td>\n",
       "      <td>5</td>\n",
       "      <td>Head and Heart</td>\n",
       "      <td>Brain Development Course</td>\n",
       "      <td>0</td>\n",
       "      <td>50.0</td>\n",
       "      <td>5.0</td>\n",
       "      <td>1000.00</td>\n",
       "      <td>0.0</td>\n",
       "      <td>0.00</td>\n",
       "      <td>...</td>\n",
       "      <td>0</td>\n",
       "      <td>0</td>\n",
       "      <td>0</td>\n",
       "      <td>0</td>\n",
       "      <td>0</td>\n",
       "      <td>0</td>\n",
       "      <td>0</td>\n",
       "      <td>0</td>\n",
       "      <td>0.0</td>\n",
       "      <td>0.000000</td>\n",
       "    </tr>\n",
       "  </tbody>\n",
       "</table>\n",
       "<p>5 rows × 28 columns</p>\n",
       "</div>"
      ],
      "text/plain": [
       "   episode_number  pitch_number           brand_name  \\\n",
       "0               1             1  BluePine Industries   \n",
       "1               1             2        Booz scooters   \n",
       "2               1             3  Heart up my Sleeves   \n",
       "3               2             4           Tagz Foods   \n",
       "4               2             5       Head and Heart   \n",
       "\n",
       "                                            idea  deal  pitcher_ask_amount  \\\n",
       "0                                   Frozen Momos     1                50.0   \n",
       "1  Renting e-bike for mobility in private spaces     1                40.0   \n",
       "2                             Detachable Sleeves     1                25.0   \n",
       "3                           Healthy Potato Chips     1                70.0   \n",
       "4                       Brain Development Course     0                50.0   \n",
       "\n",
       "   ask_equity  ask_valuation  deal_amount  deal_equity  ...  ashneer_deal  \\\n",
       "0         5.0        1000.00         75.0        16.00  ...             1   \n",
       "1        15.0         266.67         40.0        50.00  ...             1   \n",
       "2        10.0         250.00         25.0        30.00  ...             0   \n",
       "3         1.0        7000.00         70.0         2.75  ...             1   \n",
       "4         5.0        1000.00          0.0         0.00  ...             0   \n",
       "\n",
       "   anupam_deal  aman_deal  namita_deal  vineeta_deal  peyush_deal  \\\n",
       "0            0          1            0             1            0   \n",
       "1            0          0            0             1            0   \n",
       "2            1          0            0             1            0   \n",
       "3            0          0            0             0            0   \n",
       "4            0          0            0             0            0   \n",
       "\n",
       "   ghazal_deal  total_sharks_invested  amount_per_shark  equity_per_shark  \n",
       "0            0                      3              25.0          5.333333  \n",
       "1            0                      2              20.0         25.000000  \n",
       "2            0                      2              12.5         15.000000  \n",
       "3            0                      1              70.0          2.750000  \n",
       "4            0                      0               0.0          0.000000  \n",
       "\n",
       "[5 rows x 28 columns]"
      ]
     },
     "execution_count": 4,
     "metadata": {},
     "output_type": "execute_result"
    }
   ],
   "source": [
    "df.head()"
   ]
  },
  {
   "cell_type": "code",
   "execution_count": 5,
   "id": "3c5db686",
   "metadata": {
    "execution": {
     "iopub.execute_input": "2022-03-06T19:19:23.030034Z",
     "iopub.status.busy": "2022-03-06T19:19:23.029374Z",
     "iopub.status.idle": "2022-03-06T19:19:23.035234Z",
     "shell.execute_reply": "2022-03-06T19:19:23.034628Z",
     "shell.execute_reply.started": "2022-03-06T17:57:33.180170Z"
    },
    "papermill": {
     "duration": 0.042139,
     "end_time": "2022-03-06T19:19:23.035363",
     "exception": false,
     "start_time": "2022-03-06T19:19:22.993224",
     "status": "completed"
    },
    "tags": []
   },
   "outputs": [
    {
     "data": {
      "text/plain": [
       "(117, 28)"
      ]
     },
     "execution_count": 5,
     "metadata": {},
     "output_type": "execute_result"
    }
   ],
   "source": [
    "df.shape"
   ]
  },
  {
   "cell_type": "code",
   "execution_count": 6,
   "id": "27da7fc3",
   "metadata": {
    "execution": {
     "iopub.execute_input": "2022-03-06T19:19:23.110415Z",
     "iopub.status.busy": "2022-03-06T19:19:23.109829Z",
     "iopub.status.idle": "2022-03-06T19:19:23.112147Z",
     "shell.execute_reply": "2022-03-06T19:19:23.112726Z",
     "shell.execute_reply.started": "2022-03-06T18:33:53.758452Z"
    },
    "papermill": {
     "duration": 0.043862,
     "end_time": "2022-03-06T19:19:23.112903",
     "exception": false,
     "start_time": "2022-03-06T19:19:23.069041",
     "status": "completed"
    },
    "tags": []
   },
   "outputs": [
    {
     "data": {
      "text/plain": [
       "Index(['episode_number', 'pitch_number', 'brand_name', 'idea', 'deal',\n",
       "       'pitcher_ask_amount', 'ask_equity', 'ask_valuation', 'deal_amount',\n",
       "       'deal_equity', 'deal_valuation', 'ashneer_present', 'anupam_present',\n",
       "       'aman_present', 'namita_present', 'vineeta_present', 'peyush_present',\n",
       "       'ghazal_present', 'ashneer_deal', 'anupam_deal', 'aman_deal',\n",
       "       'namita_deal', 'vineeta_deal', 'peyush_deal', 'ghazal_deal',\n",
       "       'total_sharks_invested', 'amount_per_shark', 'equity_per_shark'],\n",
       "      dtype='object')"
      ]
     },
     "execution_count": 6,
     "metadata": {},
     "output_type": "execute_result"
    }
   ],
   "source": [
    "df.columns"
   ]
  },
  {
   "cell_type": "markdown",
   "id": "d6699ecb",
   "metadata": {
    "papermill": {
     "duration": 0.03393,
     "end_time": "2022-03-06T19:19:23.180493",
     "exception": false,
     "start_time": "2022-03-06T19:19:23.146563",
     "status": "completed"
    },
    "tags": []
   },
   "source": [
    "# **Episode Analysis**"
   ]
  },
  {
   "cell_type": "code",
   "execution_count": 7,
   "id": "90b2d3c6",
   "metadata": {
    "execution": {
     "iopub.execute_input": "2022-03-06T19:19:23.252676Z",
     "iopub.status.busy": "2022-03-06T19:19:23.252071Z",
     "iopub.status.idle": "2022-03-06T19:19:23.273343Z",
     "shell.execute_reply": "2022-03-06T19:19:23.272724Z",
     "shell.execute_reply.started": "2022-03-06T17:57:39.556372Z"
    },
    "papermill": {
     "duration": 0.058965,
     "end_time": "2022-03-06T19:19:23.273475",
     "exception": false,
     "start_time": "2022-03-06T19:19:23.214510",
     "status": "completed"
    },
    "tags": []
   },
   "outputs": [
    {
     "data": {
      "text/html": [
       "<div>\n",
       "<style scoped>\n",
       "    .dataframe tbody tr th:only-of-type {\n",
       "        vertical-align: middle;\n",
       "    }\n",
       "\n",
       "    .dataframe tbody tr th {\n",
       "        vertical-align: top;\n",
       "    }\n",
       "\n",
       "    .dataframe thead th {\n",
       "        text-align: right;\n",
       "    }\n",
       "</style>\n",
       "<table border=\"1\" class=\"dataframe\">\n",
       "  <thead>\n",
       "    <tr style=\"text-align: right;\">\n",
       "      <th></th>\n",
       "      <th>episode_number</th>\n",
       "      <th>pitch_number</th>\n",
       "      <th>brand_name</th>\n",
       "      <th>idea</th>\n",
       "      <th>deal</th>\n",
       "      <th>pitcher_ask_amount</th>\n",
       "      <th>ask_equity</th>\n",
       "      <th>ask_valuation</th>\n",
       "      <th>deal_amount</th>\n",
       "      <th>deal_equity</th>\n",
       "      <th>...</th>\n",
       "      <th>ashneer_deal</th>\n",
       "      <th>anupam_deal</th>\n",
       "      <th>aman_deal</th>\n",
       "      <th>namita_deal</th>\n",
       "      <th>vineeta_deal</th>\n",
       "      <th>peyush_deal</th>\n",
       "      <th>ghazal_deal</th>\n",
       "      <th>total_sharks_invested</th>\n",
       "      <th>amount_per_shark</th>\n",
       "      <th>equity_per_shark</th>\n",
       "    </tr>\n",
       "  </thead>\n",
       "  <tbody>\n",
       "    <tr>\n",
       "      <th>0</th>\n",
       "      <td>1</td>\n",
       "      <td>1</td>\n",
       "      <td>BluePine Industries</td>\n",
       "      <td>Frozen Momos</td>\n",
       "      <td>1</td>\n",
       "      <td>50.0</td>\n",
       "      <td>5.0</td>\n",
       "      <td>1000.00</td>\n",
       "      <td>75.0</td>\n",
       "      <td>16.0</td>\n",
       "      <td>...</td>\n",
       "      <td>1</td>\n",
       "      <td>0</td>\n",
       "      <td>1</td>\n",
       "      <td>0</td>\n",
       "      <td>1</td>\n",
       "      <td>0</td>\n",
       "      <td>0</td>\n",
       "      <td>3</td>\n",
       "      <td>25.0</td>\n",
       "      <td>5.333333</td>\n",
       "    </tr>\n",
       "    <tr>\n",
       "      <th>1</th>\n",
       "      <td>1</td>\n",
       "      <td>2</td>\n",
       "      <td>Booz scooters</td>\n",
       "      <td>Renting e-bike for mobility in private spaces</td>\n",
       "      <td>1</td>\n",
       "      <td>40.0</td>\n",
       "      <td>15.0</td>\n",
       "      <td>266.67</td>\n",
       "      <td>40.0</td>\n",
       "      <td>50.0</td>\n",
       "      <td>...</td>\n",
       "      <td>1</td>\n",
       "      <td>0</td>\n",
       "      <td>0</td>\n",
       "      <td>0</td>\n",
       "      <td>1</td>\n",
       "      <td>0</td>\n",
       "      <td>0</td>\n",
       "      <td>2</td>\n",
       "      <td>20.0</td>\n",
       "      <td>25.000000</td>\n",
       "    </tr>\n",
       "    <tr>\n",
       "      <th>2</th>\n",
       "      <td>1</td>\n",
       "      <td>3</td>\n",
       "      <td>Heart up my Sleeves</td>\n",
       "      <td>Detachable Sleeves</td>\n",
       "      <td>1</td>\n",
       "      <td>25.0</td>\n",
       "      <td>10.0</td>\n",
       "      <td>250.00</td>\n",
       "      <td>25.0</td>\n",
       "      <td>30.0</td>\n",
       "      <td>...</td>\n",
       "      <td>0</td>\n",
       "      <td>1</td>\n",
       "      <td>0</td>\n",
       "      <td>0</td>\n",
       "      <td>1</td>\n",
       "      <td>0</td>\n",
       "      <td>0</td>\n",
       "      <td>2</td>\n",
       "      <td>12.5</td>\n",
       "      <td>15.000000</td>\n",
       "    </tr>\n",
       "  </tbody>\n",
       "</table>\n",
       "<p>3 rows × 28 columns</p>\n",
       "</div>"
      ],
      "text/plain": [
       "   episode_number  pitch_number           brand_name  \\\n",
       "0               1             1  BluePine Industries   \n",
       "1               1             2        Booz scooters   \n",
       "2               1             3  Heart up my Sleeves   \n",
       "\n",
       "                                            idea  deal  pitcher_ask_amount  \\\n",
       "0                                   Frozen Momos     1                50.0   \n",
       "1  Renting e-bike for mobility in private spaces     1                40.0   \n",
       "2                             Detachable Sleeves     1                25.0   \n",
       "\n",
       "   ask_equity  ask_valuation  deal_amount  deal_equity  ...  ashneer_deal  \\\n",
       "0         5.0        1000.00         75.0         16.0  ...             1   \n",
       "1        15.0         266.67         40.0         50.0  ...             1   \n",
       "2        10.0         250.00         25.0         30.0  ...             0   \n",
       "\n",
       "   anupam_deal  aman_deal  namita_deal  vineeta_deal  peyush_deal  \\\n",
       "0            0          1            0             1            0   \n",
       "1            0          0            0             1            0   \n",
       "2            1          0            0             1            0   \n",
       "\n",
       "   ghazal_deal  total_sharks_invested  amount_per_shark  equity_per_shark  \n",
       "0            0                      3              25.0          5.333333  \n",
       "1            0                      2              20.0         25.000000  \n",
       "2            0                      2              12.5         15.000000  \n",
       "\n",
       "[3 rows x 28 columns]"
      ]
     },
     "execution_count": 7,
     "metadata": {},
     "output_type": "execute_result"
    }
   ],
   "source": [
    "df.head(3)"
   ]
  },
  {
   "cell_type": "code",
   "execution_count": 8,
   "id": "7e153ea2",
   "metadata": {
    "execution": {
     "iopub.execute_input": "2022-03-06T19:19:23.351834Z",
     "iopub.status.busy": "2022-03-06T19:19:23.351148Z",
     "iopub.status.idle": "2022-03-06T19:19:23.367585Z",
     "shell.execute_reply": "2022-03-06T19:19:23.368127Z",
     "shell.execute_reply.started": "2022-03-06T17:57:47.808162Z"
    },
    "papermill": {
     "duration": 0.060488,
     "end_time": "2022-03-06T19:19:23.368323",
     "exception": false,
     "start_time": "2022-03-06T19:19:23.307835",
     "status": "completed"
    },
    "tags": []
   },
   "outputs": [
    {
     "data": {
      "text/html": [
       "<div>\n",
       "<style scoped>\n",
       "    .dataframe tbody tr th:only-of-type {\n",
       "        vertical-align: middle;\n",
       "    }\n",
       "\n",
       "    .dataframe tbody tr th {\n",
       "        vertical-align: top;\n",
       "    }\n",
       "\n",
       "    .dataframe thead th {\n",
       "        text-align: right;\n",
       "    }\n",
       "</style>\n",
       "<table border=\"1\" class=\"dataframe\">\n",
       "  <thead>\n",
       "    <tr style=\"text-align: right;\">\n",
       "      <th></th>\n",
       "      <th>episode_number</th>\n",
       "      <th>total_deals</th>\n",
       "    </tr>\n",
       "  </thead>\n",
       "  <tbody>\n",
       "    <tr>\n",
       "      <th>0</th>\n",
       "      <td>1</td>\n",
       "      <td>3</td>\n",
       "    </tr>\n",
       "    <tr>\n",
       "      <th>1</th>\n",
       "      <td>2</td>\n",
       "      <td>1</td>\n",
       "    </tr>\n",
       "    <tr>\n",
       "      <th>2</th>\n",
       "      <td>3</td>\n",
       "      <td>2</td>\n",
       "    </tr>\n",
       "    <tr>\n",
       "      <th>3</th>\n",
       "      <td>4</td>\n",
       "      <td>2</td>\n",
       "    </tr>\n",
       "    <tr>\n",
       "      <th>4</th>\n",
       "      <td>5</td>\n",
       "      <td>1</td>\n",
       "    </tr>\n",
       "    <tr>\n",
       "      <th>5</th>\n",
       "      <td>6</td>\n",
       "      <td>2</td>\n",
       "    </tr>\n",
       "    <tr>\n",
       "      <th>6</th>\n",
       "      <td>7</td>\n",
       "      <td>1</td>\n",
       "    </tr>\n",
       "    <tr>\n",
       "      <th>7</th>\n",
       "      <td>8</td>\n",
       "      <td>3</td>\n",
       "    </tr>\n",
       "    <tr>\n",
       "      <th>8</th>\n",
       "      <td>9</td>\n",
       "      <td>2</td>\n",
       "    </tr>\n",
       "    <tr>\n",
       "      <th>9</th>\n",
       "      <td>10</td>\n",
       "      <td>3</td>\n",
       "    </tr>\n",
       "    <tr>\n",
       "      <th>10</th>\n",
       "      <td>11</td>\n",
       "      <td>2</td>\n",
       "    </tr>\n",
       "    <tr>\n",
       "      <th>11</th>\n",
       "      <td>12</td>\n",
       "      <td>2</td>\n",
       "    </tr>\n",
       "    <tr>\n",
       "      <th>12</th>\n",
       "      <td>13</td>\n",
       "      <td>3</td>\n",
       "    </tr>\n",
       "    <tr>\n",
       "      <th>13</th>\n",
       "      <td>14</td>\n",
       "      <td>1</td>\n",
       "    </tr>\n",
       "    <tr>\n",
       "      <th>14</th>\n",
       "      <td>15</td>\n",
       "      <td>3</td>\n",
       "    </tr>\n",
       "    <tr>\n",
       "      <th>15</th>\n",
       "      <td>16</td>\n",
       "      <td>3</td>\n",
       "    </tr>\n",
       "    <tr>\n",
       "      <th>16</th>\n",
       "      <td>17</td>\n",
       "      <td>3</td>\n",
       "    </tr>\n",
       "    <tr>\n",
       "      <th>17</th>\n",
       "      <td>18</td>\n",
       "      <td>1</td>\n",
       "    </tr>\n",
       "    <tr>\n",
       "      <th>18</th>\n",
       "      <td>19</td>\n",
       "      <td>1</td>\n",
       "    </tr>\n",
       "    <tr>\n",
       "      <th>19</th>\n",
       "      <td>20</td>\n",
       "      <td>2</td>\n",
       "    </tr>\n",
       "    <tr>\n",
       "      <th>20</th>\n",
       "      <td>21</td>\n",
       "      <td>3</td>\n",
       "    </tr>\n",
       "    <tr>\n",
       "      <th>21</th>\n",
       "      <td>22</td>\n",
       "      <td>1</td>\n",
       "    </tr>\n",
       "    <tr>\n",
       "      <th>22</th>\n",
       "      <td>23</td>\n",
       "      <td>1</td>\n",
       "    </tr>\n",
       "    <tr>\n",
       "      <th>23</th>\n",
       "      <td>24</td>\n",
       "      <td>2</td>\n",
       "    </tr>\n",
       "    <tr>\n",
       "      <th>24</th>\n",
       "      <td>25</td>\n",
       "      <td>2</td>\n",
       "    </tr>\n",
       "    <tr>\n",
       "      <th>25</th>\n",
       "      <td>26</td>\n",
       "      <td>2</td>\n",
       "    </tr>\n",
       "    <tr>\n",
       "      <th>26</th>\n",
       "      <td>27</td>\n",
       "      <td>2</td>\n",
       "    </tr>\n",
       "    <tr>\n",
       "      <th>27</th>\n",
       "      <td>28</td>\n",
       "      <td>2</td>\n",
       "    </tr>\n",
       "    <tr>\n",
       "      <th>28</th>\n",
       "      <td>29</td>\n",
       "      <td>1</td>\n",
       "    </tr>\n",
       "    <tr>\n",
       "      <th>29</th>\n",
       "      <td>30</td>\n",
       "      <td>1</td>\n",
       "    </tr>\n",
       "    <tr>\n",
       "      <th>30</th>\n",
       "      <td>31</td>\n",
       "      <td>1</td>\n",
       "    </tr>\n",
       "    <tr>\n",
       "      <th>31</th>\n",
       "      <td>32</td>\n",
       "      <td>1</td>\n",
       "    </tr>\n",
       "    <tr>\n",
       "      <th>32</th>\n",
       "      <td>33</td>\n",
       "      <td>3</td>\n",
       "    </tr>\n",
       "    <tr>\n",
       "      <th>33</th>\n",
       "      <td>34</td>\n",
       "      <td>1</td>\n",
       "    </tr>\n",
       "    <tr>\n",
       "      <th>34</th>\n",
       "      <td>35</td>\n",
       "      <td>1</td>\n",
       "    </tr>\n",
       "  </tbody>\n",
       "</table>\n",
       "</div>"
      ],
      "text/plain": [
       "    episode_number  total_deals\n",
       "0                1            3\n",
       "1                2            1\n",
       "2                3            2\n",
       "3                4            2\n",
       "4                5            1\n",
       "5                6            2\n",
       "6                7            1\n",
       "7                8            3\n",
       "8                9            2\n",
       "9               10            3\n",
       "10              11            2\n",
       "11              12            2\n",
       "12              13            3\n",
       "13              14            1\n",
       "14              15            3\n",
       "15              16            3\n",
       "16              17            3\n",
       "17              18            1\n",
       "18              19            1\n",
       "19              20            2\n",
       "20              21            3\n",
       "21              22            1\n",
       "22              23            1\n",
       "23              24            2\n",
       "24              25            2\n",
       "25              26            2\n",
       "26              27            2\n",
       "27              28            2\n",
       "28              29            1\n",
       "29              30            1\n",
       "30              31            1\n",
       "31              32            1\n",
       "32              33            3\n",
       "33              34            1\n",
       "34              35            1"
      ]
     },
     "execution_count": 8,
     "metadata": {},
     "output_type": "execute_result"
    }
   ],
   "source": [
    "df[df['deal'] == 1]['episode_number'].value_counts().to_frame().reset_index().rename(columns={'index':'episode_number','episode_number':'total_deals'}).sort_values('episode_number').reset_index().drop('index',axis=1)"
   ]
  },
  {
   "cell_type": "code",
   "execution_count": 9,
   "id": "c1af2bc7",
   "metadata": {
    "execution": {
     "iopub.execute_input": "2022-03-06T19:19:23.442527Z",
     "iopub.status.busy": "2022-03-06T19:19:23.441891Z",
     "iopub.status.idle": "2022-03-06T19:19:23.450624Z",
     "shell.execute_reply": "2022-03-06T19:19:23.451159Z",
     "shell.execute_reply.started": "2022-03-06T17:57:53.404281Z"
    },
    "papermill": {
     "duration": 0.047269,
     "end_time": "2022-03-06T19:19:23.451354",
     "exception": false,
     "start_time": "2022-03-06T19:19:23.404085",
     "status": "completed"
    },
    "tags": []
   },
   "outputs": [],
   "source": [
    "eps = df[df['deal'] == 1]['episode_number'].value_counts().to_frame().reset_index().rename(columns={'index':'episode_number','episode_number':'total_deals'}).sort_values('episode_number').reset_index().drop('index',axis=1)"
   ]
  },
  {
   "cell_type": "code",
   "execution_count": 10,
   "id": "c729a51c",
   "metadata": {
    "execution": {
     "iopub.execute_input": "2022-03-06T19:19:23.524851Z",
     "iopub.status.busy": "2022-03-06T19:19:23.524224Z",
     "iopub.status.idle": "2022-03-06T19:19:23.532910Z",
     "shell.execute_reply": "2022-03-06T19:19:23.532367Z",
     "shell.execute_reply.started": "2022-03-06T17:57:54.937074Z"
    },
    "papermill": {
     "duration": 0.046494,
     "end_time": "2022-03-06T19:19:23.533046",
     "exception": false,
     "start_time": "2022-03-06T19:19:23.486552",
     "status": "completed"
    },
    "tags": []
   },
   "outputs": [
    {
     "data": {
      "text/html": [
       "<div>\n",
       "<style scoped>\n",
       "    .dataframe tbody tr th:only-of-type {\n",
       "        vertical-align: middle;\n",
       "    }\n",
       "\n",
       "    .dataframe tbody tr th {\n",
       "        vertical-align: top;\n",
       "    }\n",
       "\n",
       "    .dataframe thead th {\n",
       "        text-align: right;\n",
       "    }\n",
       "</style>\n",
       "<table border=\"1\" class=\"dataframe\">\n",
       "  <thead>\n",
       "    <tr style=\"text-align: right;\">\n",
       "      <th></th>\n",
       "      <th>episode_number</th>\n",
       "      <th>total_deals</th>\n",
       "    </tr>\n",
       "  </thead>\n",
       "  <tbody>\n",
       "    <tr>\n",
       "      <th>0</th>\n",
       "      <td>1</td>\n",
       "      <td>3</td>\n",
       "    </tr>\n",
       "    <tr>\n",
       "      <th>1</th>\n",
       "      <td>2</td>\n",
       "      <td>1</td>\n",
       "    </tr>\n",
       "    <tr>\n",
       "      <th>2</th>\n",
       "      <td>3</td>\n",
       "      <td>2</td>\n",
       "    </tr>\n",
       "    <tr>\n",
       "      <th>3</th>\n",
       "      <td>4</td>\n",
       "      <td>2</td>\n",
       "    </tr>\n",
       "    <tr>\n",
       "      <th>4</th>\n",
       "      <td>5</td>\n",
       "      <td>1</td>\n",
       "    </tr>\n",
       "  </tbody>\n",
       "</table>\n",
       "</div>"
      ],
      "text/plain": [
       "   episode_number  total_deals\n",
       "0               1            3\n",
       "1               2            1\n",
       "2               3            2\n",
       "3               4            2\n",
       "4               5            1"
      ]
     },
     "execution_count": 10,
     "metadata": {},
     "output_type": "execute_result"
    }
   ],
   "source": [
    "eps.head()"
   ]
  },
  {
   "cell_type": "code",
   "execution_count": 11,
   "id": "c3e52180",
   "metadata": {
    "execution": {
     "iopub.execute_input": "2022-03-06T19:19:23.613163Z",
     "iopub.status.busy": "2022-03-06T19:19:23.612473Z",
     "iopub.status.idle": "2022-03-06T19:19:23.615519Z",
     "shell.execute_reply": "2022-03-06T19:19:23.615038Z",
     "shell.execute_reply.started": "2022-03-06T17:58:01.588149Z"
    },
    "papermill": {
     "duration": 0.046121,
     "end_time": "2022-03-06T19:19:23.615673",
     "exception": false,
     "start_time": "2022-03-06T19:19:23.569552",
     "status": "completed"
    },
    "tags": []
   },
   "outputs": [],
   "source": [
    "len(eps[eps['total_deals'] == eps['total_deals'].max()])\n",
    "maxDeals = df[df['deal'] == 1]['episode_number'].value_counts().max()"
   ]
  },
  {
   "cell_type": "code",
   "execution_count": 12,
   "id": "14574f8e",
   "metadata": {
    "execution": {
     "iopub.execute_input": "2022-03-06T19:19:23.694878Z",
     "iopub.status.busy": "2022-03-06T19:19:23.694201Z",
     "iopub.status.idle": "2022-03-06T19:19:23.698788Z",
     "shell.execute_reply": "2022-03-06T19:19:23.698233Z",
     "shell.execute_reply.started": "2022-03-06T17:58:14.134328Z"
    },
    "papermill": {
     "duration": 0.047904,
     "end_time": "2022-03-06T19:19:23.698952",
     "exception": false,
     "start_time": "2022-03-06T19:19:23.651048",
     "status": "completed"
    },
    "tags": []
   },
   "outputs": [],
   "source": [
    "noDealEps = df[df['deal']==0]['episode_number'].value_counts().to_frame().reset_index().rename(columns={'index':'episode_number','episode_number':'no_deals'})"
   ]
  },
  {
   "cell_type": "code",
   "execution_count": 13,
   "id": "697a92b5",
   "metadata": {
    "execution": {
     "iopub.execute_input": "2022-03-06T19:19:23.773797Z",
     "iopub.status.busy": "2022-03-06T19:19:23.773135Z",
     "iopub.status.idle": "2022-03-06T19:19:23.783442Z",
     "shell.execute_reply": "2022-03-06T19:19:23.783941Z",
     "shell.execute_reply.started": "2022-03-06T17:58:16.256573Z"
    },
    "papermill": {
     "duration": 0.049797,
     "end_time": "2022-03-06T19:19:23.784111",
     "exception": false,
     "start_time": "2022-03-06T19:19:23.734314",
     "status": "completed"
    },
    "tags": []
   },
   "outputs": [
    {
     "data": {
      "text/html": [
       "<div>\n",
       "<style scoped>\n",
       "    .dataframe tbody tr th:only-of-type {\n",
       "        vertical-align: middle;\n",
       "    }\n",
       "\n",
       "    .dataframe tbody tr th {\n",
       "        vertical-align: top;\n",
       "    }\n",
       "\n",
       "    .dataframe thead th {\n",
       "        text-align: right;\n",
       "    }\n",
       "</style>\n",
       "<table border=\"1\" class=\"dataframe\">\n",
       "  <thead>\n",
       "    <tr style=\"text-align: right;\">\n",
       "      <th></th>\n",
       "      <th>episode_number</th>\n",
       "      <th>no_deals</th>\n",
       "    </tr>\n",
       "  </thead>\n",
       "  <tbody>\n",
       "    <tr>\n",
       "      <th>0</th>\n",
       "      <td>18</td>\n",
       "      <td>3</td>\n",
       "    </tr>\n",
       "    <tr>\n",
       "      <th>1</th>\n",
       "      <td>34</td>\n",
       "      <td>3</td>\n",
       "    </tr>\n",
       "    <tr>\n",
       "      <th>2</th>\n",
       "      <td>32</td>\n",
       "      <td>3</td>\n",
       "    </tr>\n",
       "    <tr>\n",
       "      <th>3</th>\n",
       "      <td>31</td>\n",
       "      <td>3</td>\n",
       "    </tr>\n",
       "    <tr>\n",
       "      <th>4</th>\n",
       "      <td>30</td>\n",
       "      <td>3</td>\n",
       "    </tr>\n",
       "    <tr>\n",
       "      <th>5</th>\n",
       "      <td>23</td>\n",
       "      <td>3</td>\n",
       "    </tr>\n",
       "    <tr>\n",
       "      <th>6</th>\n",
       "      <td>22</td>\n",
       "      <td>3</td>\n",
       "    </tr>\n",
       "    <tr>\n",
       "      <th>7</th>\n",
       "      <td>19</td>\n",
       "      <td>3</td>\n",
       "    </tr>\n",
       "  </tbody>\n",
       "</table>\n",
       "</div>"
      ],
      "text/plain": [
       "   episode_number  no_deals\n",
       "0              18         3\n",
       "1              34         3\n",
       "2              32         3\n",
       "3              31         3\n",
       "4              30         3\n",
       "5              23         3\n",
       "6              22         3\n",
       "7              19         3"
      ]
     },
     "execution_count": 13,
     "metadata": {},
     "output_type": "execute_result"
    }
   ],
   "source": [
    "noDealEps[noDealEps['no_deals']==noDealEps['no_deals'].max()]"
   ]
  },
  {
   "cell_type": "code",
   "execution_count": 14,
   "id": "6c7e4d9d",
   "metadata": {
    "execution": {
     "iopub.execute_input": "2022-03-06T19:19:23.861467Z",
     "iopub.status.busy": "2022-03-06T19:19:23.860864Z",
     "iopub.status.idle": "2022-03-06T19:19:23.886232Z",
     "shell.execute_reply": "2022-03-06T19:19:23.886754Z",
     "shell.execute_reply.started": "2022-03-06T17:58:25.755695Z"
    },
    "papermill": {
     "duration": 0.065993,
     "end_time": "2022-03-06T19:19:23.886928",
     "exception": false,
     "start_time": "2022-03-06T19:19:23.820935",
     "status": "completed"
    },
    "tags": []
   },
   "outputs": [
    {
     "name": "stdout",
     "output_type": "stream",
     "text": [
      "Total episodes in Shark tank - 35\n",
      "Maximum deals in an episode - 3\n",
      "Minimum deals in an episode - 1\n",
      "9 episodes with maximum (3) deals\n",
      "8 episodes having maximum (3) no deals\n",
      "Highest pitcher amount asked - RS 30000 lakhs in the 11th episode\n",
      "Highest equity asked - 25.0% in the 11th episode\n",
      "Lowest equity asked - 0.25% in the 3rd episode\n",
      "Lowest pitcher amount asked - RS 101 in the 27th episode\n"
     ]
    }
   ],
   "source": [
    "print(\"Total episodes in Shark tank - {}\".format(df['episode_number'].unique().max()))\n",
    "print(\"Maximum deals in an episode - {}\".format(df[df['deal'] == 1]['episode_number'].value_counts().max()))\n",
    "print(\"Minimum deals in an episode - {}\".format(df[df['deal'] == 1]['episode_number'].value_counts().min()))\n",
    "print(\"{} episodes with maximum ({}) deals\".format(len(eps[eps['total_deals'] == eps['total_deals'].max()]),maxDeals))\n",
    "print(\"{} episodes having maximum ({}) no deals\".format(len(noDealEps[noDealEps['no_deals']==noDealEps['no_deals'].max()]),noDealEps['no_deals'].max()))\n",
    "print(\"Highest pitcher amount asked - RS {} lakhs in the {}th episode\".format(int(float(df[df['pitcher_ask_amount'] == df['pitcher_ask_amount'].max()]['pitcher_ask_amount'].to_string(index=False))),df[df['pitcher_ask_amount'] == df['pitcher_ask_amount'].max()]['episode_number'].to_string(index=False)))\n",
    "print(\"Highest equity asked - {}% in the {}th episode\".format(df[df['ask_equity'] == df['ask_equity'].max()]['ask_equity'].to_string(index=False),df[df['ask_equity'] == df['ask_equity'].max()]['episode_number'].to_string(index=False)))\n",
    "print(\"Lowest equity asked - {}% in the {}rd episode\".format(df[df['ask_equity'] == df['ask_equity'].min()]['ask_equity'].to_string(index=False),df[df['ask_equity'] == df['ask_equity'].min()]['episode_number'].to_string(index=False)))\n",
    "print(\"Lowest pitcher amount asked - RS {} in the {}th episode\".format(int(float(df[df['pitcher_ask_amount'] == df['pitcher_ask_amount'].min()]['pitcher_ask_amount'].to_string(index=False))*100000),df[df['pitcher_ask_amount'] == df['pitcher_ask_amount'].min()]['episode_number'].to_string(index=False)))\n"
   ]
  },
  {
   "cell_type": "markdown",
   "id": "dd8ed15b",
   "metadata": {
    "papermill": {
     "duration": 0.036773,
     "end_time": "2022-03-06T19:19:23.960242",
     "exception": false,
     "start_time": "2022-03-06T19:19:23.923469",
     "status": "completed"
    },
    "tags": []
   },
   "source": [
    "# Visualisation"
   ]
  },
  {
   "cell_type": "code",
   "execution_count": 15,
   "id": "a147d014",
   "metadata": {
    "execution": {
     "iopub.execute_input": "2022-03-06T19:19:24.037941Z",
     "iopub.status.busy": "2022-03-06T19:19:24.037353Z",
     "iopub.status.idle": "2022-03-06T19:19:24.045002Z",
     "shell.execute_reply": "2022-03-06T19:19:24.044424Z",
     "shell.execute_reply.started": "2022-03-06T17:59:17.876543Z"
    },
    "papermill": {
     "duration": 0.046501,
     "end_time": "2022-03-06T19:19:24.045147",
     "exception": false,
     "start_time": "2022-03-06T19:19:23.998646",
     "status": "completed"
    },
    "tags": []
   },
   "outputs": [
    {
     "data": {
      "text/plain": [
       "1    65\n",
       "0    52\n",
       "Name: deal, dtype: int64"
      ]
     },
     "execution_count": 15,
     "metadata": {},
     "output_type": "execute_result"
    }
   ],
   "source": [
    "df['deal'].value_counts()"
   ]
  },
  {
   "cell_type": "code",
   "execution_count": 16,
   "id": "69a23afc",
   "metadata": {
    "execution": {
     "iopub.execute_input": "2022-03-06T19:19:24.131156Z",
     "iopub.status.busy": "2022-03-06T19:19:24.130462Z",
     "iopub.status.idle": "2022-03-06T19:19:24.252725Z",
     "shell.execute_reply": "2022-03-06T19:19:24.253592Z",
     "shell.execute_reply.started": "2022-03-06T17:59:18.404916Z"
    },
    "papermill": {
     "duration": 0.171169,
     "end_time": "2022-03-06T19:19:24.253896",
     "exception": false,
     "start_time": "2022-03-06T19:19:24.082727",
     "status": "completed"
    },
    "tags": []
   },
   "outputs": [
    {
     "data": {
      "image/png": "[encoded data removed]",
      "text/plain": [
       "<Figure size 576x432 with 1 Axes>"
      ]
     },
     "metadata": {},
     "output_type": "display_data"
    }
   ],
   "source": [
    "labels=['Deal done','No deal']\n",
    "plt.figure(figsize=(8,6))\n",
    "plt.pie(df['deal'].value_counts(),labels=labels,autopct='%0.0f%%')\n",
    "plt.title('Deals vs No deals')\n",
    "plt.show()"
   ]
  },
  {
   "cell_type": "code",
   "execution_count": 17,
   "id": "083cfeb2",
   "metadata": {
    "execution": {
     "iopub.execute_input": "2022-03-06T19:19:24.375425Z",
     "iopub.status.busy": "2022-03-06T19:19:24.369948Z",
     "iopub.status.idle": "2022-03-06T19:19:24.808280Z",
     "shell.execute_reply": "2022-03-06T19:19:24.807674Z",
     "shell.execute_reply.started": "2022-03-06T19:14:53.219845Z"
    },
    "papermill": {
     "duration": 0.483353,
     "end_time": "2022-03-06T19:19:24.808459",
     "exception": false,
     "start_time": "2022-03-06T19:19:24.325106",
     "status": "completed"
    },
    "tags": []
   },
   "outputs": [
    {
     "data": {
      "image/png": "[encoded data removed]",
      "text/plain": [
       "<Figure size 1152x432 with 1 Axes>"
      ]
     },
     "metadata": {
      "needs_background": "light"
     },
     "output_type": "display_data"
    }
   ],
   "source": [
    "plt.figure(figsize=(16,6))\n",
    "sns.barplot(x='episode_number',y='total_deals',data=eps)\n",
    "plt.title('Episode-wise ditribution of deals done',fontsize='14',fontweight='bold')\n",
    "plt.xlabel('Episode No', fontweight='bold', fontsize='12', horizontalalignment='center')\n",
    "plt.ylabel('Total Deals', fontweight='bold',fontsize='12', horizontalalignment='center')\n",
    "plt.show()"
   ]
  },
  {
   "cell_type": "code",
   "execution_count": 18,
   "id": "ed2d382b",
   "metadata": {
    "execution": {
     "iopub.execute_input": "2022-03-06T19:19:24.893975Z",
     "iopub.status.busy": "2022-03-06T19:19:24.893011Z",
     "iopub.status.idle": "2022-03-06T19:19:24.895715Z",
     "shell.execute_reply": "2022-03-06T19:19:24.895178Z",
     "shell.execute_reply.started": "2022-03-06T18:06:15.471474Z"
    },
    "papermill": {
     "duration": 0.047921,
     "end_time": "2022-03-06T19:19:24.895883",
     "exception": false,
     "start_time": "2022-03-06T19:19:24.847962",
     "status": "completed"
    },
    "tags": []
   },
   "outputs": [],
   "source": [
    "dealDoneEps = df[df['deal']==1]"
   ]
  },
  {
   "cell_type": "code",
   "execution_count": 19,
   "id": "ceb419a1",
   "metadata": {
    "execution": {
     "iopub.execute_input": "2022-03-06T19:19:24.980643Z",
     "iopub.status.busy": "2022-03-06T19:19:24.980010Z",
     "iopub.status.idle": "2022-03-06T19:19:24.984945Z",
     "shell.execute_reply": "2022-03-06T19:19:24.984430Z",
     "shell.execute_reply.started": "2022-03-06T18:06:21.176344Z"
    },
    "papermill": {
     "duration": 0.04986,
     "end_time": "2022-03-06T19:19:24.985087",
     "exception": false,
     "start_time": "2022-03-06T19:19:24.935227",
     "status": "completed"
    },
    "tags": []
   },
   "outputs": [],
   "source": [
    "dealDoneEps = dealDoneEps.reset_index().drop('index',axis=1)"
   ]
  },
  {
   "cell_type": "code",
   "execution_count": 20,
   "id": "6bb24d5e",
   "metadata": {
    "execution": {
     "iopub.execute_input": "2022-03-06T19:19:25.071247Z",
     "iopub.status.busy": "2022-03-06T19:19:25.070571Z",
     "iopub.status.idle": "2022-03-06T19:19:25.087909Z",
     "shell.execute_reply": "2022-03-06T19:19:25.087359Z",
     "shell.execute_reply.started": "2022-03-06T18:06:34.452128Z"
    },
    "papermill": {
     "duration": 0.062771,
     "end_time": "2022-03-06T19:19:25.088043",
     "exception": false,
     "start_time": "2022-03-06T19:19:25.025272",
     "status": "completed"
    },
    "tags": []
   },
   "outputs": [
    {
     "data": {
      "text/html": [
       "<div>\n",
       "<style scoped>\n",
       "    .dataframe tbody tr th:only-of-type {\n",
       "        vertical-align: middle;\n",
       "    }\n",
       "\n",
       "    .dataframe tbody tr th {\n",
       "        vertical-align: top;\n",
       "    }\n",
       "\n",
       "    .dataframe thead th {\n",
       "        text-align: right;\n",
       "    }\n",
       "</style>\n",
       "<table border=\"1\" class=\"dataframe\">\n",
       "  <thead>\n",
       "    <tr style=\"text-align: right;\">\n",
       "      <th></th>\n",
       "      <th>episode_number</th>\n",
       "      <th>pitch_number</th>\n",
       "      <th>brand_name</th>\n",
       "      <th>idea</th>\n",
       "      <th>deal</th>\n",
       "      <th>pitcher_ask_amount</th>\n",
       "      <th>ask_equity</th>\n",
       "      <th>ask_valuation</th>\n",
       "      <th>deal_amount</th>\n",
       "      <th>deal_equity</th>\n",
       "      <th>...</th>\n",
       "      <th>ashneer_deal</th>\n",
       "      <th>anupam_deal</th>\n",
       "      <th>aman_deal</th>\n",
       "      <th>namita_deal</th>\n",
       "      <th>vineeta_deal</th>\n",
       "      <th>peyush_deal</th>\n",
       "      <th>ghazal_deal</th>\n",
       "      <th>total_sharks_invested</th>\n",
       "      <th>amount_per_shark</th>\n",
       "      <th>equity_per_shark</th>\n",
       "    </tr>\n",
       "  </thead>\n",
       "  <tbody>\n",
       "    <tr>\n",
       "      <th>0</th>\n",
       "      <td>1</td>\n",
       "      <td>1</td>\n",
       "      <td>BluePine Industries</td>\n",
       "      <td>Frozen Momos</td>\n",
       "      <td>1</td>\n",
       "      <td>50.0</td>\n",
       "      <td>5.0</td>\n",
       "      <td>1000.00</td>\n",
       "      <td>75.0</td>\n",
       "      <td>16.0</td>\n",
       "      <td>...</td>\n",
       "      <td>1</td>\n",
       "      <td>0</td>\n",
       "      <td>1</td>\n",
       "      <td>0</td>\n",
       "      <td>1</td>\n",
       "      <td>0</td>\n",
       "      <td>0</td>\n",
       "      <td>3</td>\n",
       "      <td>25.0</td>\n",
       "      <td>5.333333</td>\n",
       "    </tr>\n",
       "    <tr>\n",
       "      <th>1</th>\n",
       "      <td>1</td>\n",
       "      <td>2</td>\n",
       "      <td>Booz scooters</td>\n",
       "      <td>Renting e-bike for mobility in private spaces</td>\n",
       "      <td>1</td>\n",
       "      <td>40.0</td>\n",
       "      <td>15.0</td>\n",
       "      <td>266.67</td>\n",
       "      <td>40.0</td>\n",
       "      <td>50.0</td>\n",
       "      <td>...</td>\n",
       "      <td>1</td>\n",
       "      <td>0</td>\n",
       "      <td>0</td>\n",
       "      <td>0</td>\n",
       "      <td>1</td>\n",
       "      <td>0</td>\n",
       "      <td>0</td>\n",
       "      <td>2</td>\n",
       "      <td>20.0</td>\n",
       "      <td>25.000000</td>\n",
       "    </tr>\n",
       "  </tbody>\n",
       "</table>\n",
       "<p>2 rows × 28 columns</p>\n",
       "</div>"
      ],
      "text/plain": [
       "   episode_number  pitch_number           brand_name  \\\n",
       "0               1             1  BluePine Industries   \n",
       "1               1             2        Booz scooters   \n",
       "\n",
       "                                            idea  deal  pitcher_ask_amount  \\\n",
       "0                                   Frozen Momos     1                50.0   \n",
       "1  Renting e-bike for mobility in private spaces     1                40.0   \n",
       "\n",
       "   ask_equity  ask_valuation  deal_amount  deal_equity  ...  ashneer_deal  \\\n",
       "0         5.0        1000.00         75.0         16.0  ...             1   \n",
       "1        15.0         266.67         40.0         50.0  ...             1   \n",
       "\n",
       "   anupam_deal  aman_deal  namita_deal  vineeta_deal  peyush_deal  \\\n",
       "0            0          1            0             1            0   \n",
       "1            0          0            0             1            0   \n",
       "\n",
       "   ghazal_deal  total_sharks_invested  amount_per_shark  equity_per_shark  \n",
       "0            0                      3              25.0          5.333333  \n",
       "1            0                      2              20.0         25.000000  \n",
       "\n",
       "[2 rows x 28 columns]"
      ]
     },
     "execution_count": 20,
     "metadata": {},
     "output_type": "execute_result"
    }
   ],
   "source": [
    "dealDoneEps.head(2)"
   ]
  },
  {
   "cell_type": "code",
   "execution_count": 21,
   "id": "376007a1",
   "metadata": {
    "execution": {
     "iopub.execute_input": "2022-03-06T19:19:25.178299Z",
     "iopub.status.busy": "2022-03-06T19:19:25.177622Z",
     "iopub.status.idle": "2022-03-06T19:19:25.181377Z",
     "shell.execute_reply": "2022-03-06T19:19:25.181821Z",
     "shell.execute_reply.started": "2022-03-06T17:59:26.409243Z"
    },
    "papermill": {
     "duration": 0.05289,
     "end_time": "2022-03-06T19:19:25.181989",
     "exception": false,
     "start_time": "2022-03-06T19:19:25.129099",
     "status": "completed"
    },
    "tags": []
   },
   "outputs": [
    {
     "name": "stdout",
     "output_type": "stream",
     "text": [
      "Toal deals done by Ashneer - 20\n",
      "Toal deals done by Aman - 27\n",
      "Toal deals done by Namita - 22\n",
      "Toal deals done by Piyush - 27\n",
      "Toal deals done by Vineeta - 15\n",
      "Toal deals done by Gazal - 7\n"
     ]
    }
   ],
   "source": [
    "print(\"Toal deals done by Ashneer - {}\".format(dealDoneEps['ashneer_deal'].sum()))\n",
    "print(\"Toal deals done by Aman - {}\".format(dealDoneEps['aman_deal'].sum()))\n",
    "print(\"Toal deals done by Namita - {}\".format(dealDoneEps['namita_deal'].sum()))\n",
    "print(\"Toal deals done by Piyush - {}\".format(dealDoneEps['peyush_deal'].sum()))\n",
    "print(\"Toal deals done by Vineeta - {}\".format(dealDoneEps['vineeta_deal'].sum()))\n",
    "print(\"Toal deals done by Gazal - {}\".format(dealDoneEps['ghazal_deal'].sum()))"
   ]
  },
  {
   "cell_type": "code",
   "execution_count": 22,
   "id": "c9ad061a",
   "metadata": {
    "execution": {
     "iopub.execute_input": "2022-03-06T19:19:25.272573Z",
     "iopub.status.busy": "2022-03-06T19:19:25.271927Z",
     "iopub.status.idle": "2022-03-06T19:19:25.892940Z",
     "shell.execute_reply": "2022-03-06T19:19:25.893447Z",
     "shell.execute_reply.started": "2022-03-06T19:02:36.424458Z"
    },
    "papermill": {
     "duration": 0.671112,
     "end_time": "2022-03-06T19:19:25.893616",
     "exception": false,
     "start_time": "2022-03-06T19:19:25.222504",
     "status": "completed"
    },
    "tags": []
   },
   "outputs": [
    {
     "data": {
      "image/png": "[encoded data removed]",
      "text/plain": [
       "<Figure size 1440x432 with 1 Axes>"
      ]
     },
     "metadata": {
      "needs_background": "light"
     },
     "output_type": "display_data"
    }
   ],
   "source": [
    "plt.figure(figsize=(20,6))\n",
    "sns.barplot(x='pitcher_ask_amount',y='deal_amount',data=dealDoneEps)\n",
    "plt.title('Ask Amount vs Deal Amount (in lakhs)',fontsize='14',fontweight='bold')\n",
    "plt.xlabel('Pitcher Ask Amount', fontweight='bold',fontsize='12', horizontalalignment='center')\n",
    "plt.ylabel('Deal Amount', fontweight='bold',fontsize='12', horizontalalignment='center')\n",
    "plt.show()"
   ]
  },
  {
   "cell_type": "code",
   "execution_count": 23,
   "id": "2ebfb70c",
   "metadata": {
    "execution": {
     "iopub.execute_input": "2022-03-06T19:19:25.983031Z",
     "iopub.status.busy": "2022-03-06T19:19:25.982357Z",
     "iopub.status.idle": "2022-03-06T19:19:25.985094Z",
     "shell.execute_reply": "2022-03-06T19:19:25.984518Z",
     "shell.execute_reply.started": "2022-03-06T18:14:05.441460Z"
    },
    "papermill": {
     "duration": 0.050195,
     "end_time": "2022-03-06T19:19:25.985257",
     "exception": false,
     "start_time": "2022-03-06T19:19:25.935062",
     "status": "completed"
    },
    "tags": []
   },
   "outputs": [],
   "source": [
    "def find_investment(shark):\n",
    "    investment = 0\n",
    "    for data in range(len(dealDoneEps)):\n",
    "        if dealDoneEps.loc[data,shark+'_deal'] == 1:\n",
    "            investment += dealDoneEps.loc[data,'amount_per_shark']\n",
    "    return round(investment,2)"
   ]
  },
  {
   "cell_type": "code",
   "execution_count": 24,
   "id": "56306a33",
   "metadata": {
    "execution": {
     "iopub.execute_input": "2022-03-06T19:19:26.074995Z",
     "iopub.status.busy": "2022-03-06T19:19:26.074376Z",
     "iopub.status.idle": "2022-03-06T19:19:26.077235Z",
     "shell.execute_reply": "2022-03-06T19:19:26.077702Z",
     "shell.execute_reply.started": "2022-03-06T18:14:07.050585Z"
    },
    "papermill": {
     "duration": 0.051053,
     "end_time": "2022-03-06T19:19:26.077892",
     "exception": false,
     "start_time": "2022-03-06T19:19:26.026839",
     "status": "completed"
    },
    "tags": []
   },
   "outputs": [
    {
     "data": {
      "text/plain": [
       "533.83"
      ]
     },
     "execution_count": 24,
     "metadata": {},
     "output_type": "execute_result"
    }
   ],
   "source": [
    "find_investment('anupam')"
   ]
  },
  {
   "cell_type": "code",
   "execution_count": 25,
   "id": "d0aad766",
   "metadata": {
    "execution": {
     "iopub.execute_input": "2022-03-06T19:19:26.189484Z",
     "iopub.status.busy": "2022-03-06T19:19:26.164792Z",
     "iopub.status.idle": "2022-03-06T19:19:26.193366Z",
     "shell.execute_reply": "2022-03-06T19:19:26.192752Z",
     "shell.execute_reply.started": "2022-03-06T18:17:43.626950Z"
    },
    "papermill": {
     "duration": 0.07417,
     "end_time": "2022-03-06T19:19:26.193502",
     "exception": false,
     "start_time": "2022-03-06T19:19:26.119332",
     "status": "completed"
    },
    "tags": []
   },
   "outputs": [
    {
     "data": {
      "text/html": [
       "<div>\n",
       "<style scoped>\n",
       "    .dataframe tbody tr th:only-of-type {\n",
       "        vertical-align: middle;\n",
       "    }\n",
       "\n",
       "    .dataframe tbody tr th {\n",
       "        vertical-align: top;\n",
       "    }\n",
       "\n",
       "    .dataframe thead th {\n",
       "        text-align: right;\n",
       "    }\n",
       "</style>\n",
       "<table border=\"1\" class=\"dataframe\">\n",
       "  <thead>\n",
       "    <tr style=\"text-align: right;\">\n",
       "      <th></th>\n",
       "      <th>total_invested(lakhs)</th>\n",
       "      <th>shark</th>\n",
       "      <th>total_deals</th>\n",
       "    </tr>\n",
       "  </thead>\n",
       "  <tbody>\n",
       "    <tr>\n",
       "      <th>0</th>\n",
       "      <td>444.33</td>\n",
       "      <td>ashneer</td>\n",
       "      <td>20</td>\n",
       "    </tr>\n",
       "    <tr>\n",
       "      <th>1</th>\n",
       "      <td>837.50</td>\n",
       "      <td>aman</td>\n",
       "      <td>27</td>\n",
       "    </tr>\n",
       "    <tr>\n",
       "      <th>2</th>\n",
       "      <td>648.33</td>\n",
       "      <td>namita</td>\n",
       "      <td>22</td>\n",
       "    </tr>\n",
       "    <tr>\n",
       "      <th>3</th>\n",
       "      <td>719.67</td>\n",
       "      <td>peyush</td>\n",
       "      <td>27</td>\n",
       "    </tr>\n",
       "    <tr>\n",
       "      <th>4</th>\n",
       "      <td>328.33</td>\n",
       "      <td>vineeta</td>\n",
       "      <td>15</td>\n",
       "    </tr>\n",
       "    <tr>\n",
       "      <th>5</th>\n",
       "      <td>130.00</td>\n",
       "      <td>ghazal</td>\n",
       "      <td>7</td>\n",
       "    </tr>\n",
       "    <tr>\n",
       "      <th>6</th>\n",
       "      <td>533.83</td>\n",
       "      <td>anupam</td>\n",
       "      <td>24</td>\n",
       "    </tr>\n",
       "  </tbody>\n",
       "</table>\n",
       "</div>"
      ],
      "text/plain": [
       "   total_invested(lakhs)    shark  total_deals\n",
       "0                 444.33  ashneer           20\n",
       "1                 837.50     aman           27\n",
       "2                 648.33   namita           22\n",
       "3                 719.67   peyush           27\n",
       "4                 328.33  vineeta           15\n",
       "5                 130.00   ghazal            7\n",
       "6                 533.83   anupam           24"
      ]
     },
     "execution_count": 25,
     "metadata": {},
     "output_type": "execute_result"
    }
   ],
   "source": [
    "shark_deals = pd.DataFrame(columns={'shark','total_deals','total_invested(lakhs)'})\n",
    "shark_deals['shark'] = ['ashneer','aman','namita','peyush','vineeta','ghazal','anupam']\n",
    "shark_deals['total_deals'] = [dealDoneEps['ashneer_deal'].sum(),dealDoneEps['aman_deal'].sum(),dealDoneEps['namita_deal'].sum(), dealDoneEps['peyush_deal'].sum(),dealDoneEps['vineeta_deal'].sum(),dealDoneEps['ghazal_deal'].sum(),dealDoneEps['anupam_deal'].sum()]\n",
    "shark_deals['total_invested(lakhs)'] = [find_investment('ashneer'),find_investment('aman'),find_investment('namita'),find_investment('peyush'),find_investment('vineeta'),find_investment('ghazal'),find_investment('anupam')]\n",
    "shark_deals"
   ]
  },
  {
   "cell_type": "code",
   "execution_count": 26,
   "id": "68c87561",
   "metadata": {
    "execution": {
     "iopub.execute_input": "2022-03-06T19:19:26.318721Z",
     "iopub.status.busy": "2022-03-06T19:19:26.312543Z",
     "iopub.status.idle": "2022-03-06T19:19:26.516750Z",
     "shell.execute_reply": "2022-03-06T19:19:26.517198Z",
     "shell.execute_reply.started": "2022-03-06T19:00:29.514876Z"
    },
    "papermill": {
     "duration": 0.281391,
     "end_time": "2022-03-06T19:19:26.517370",
     "exception": false,
     "start_time": "2022-03-06T19:19:26.235979",
     "status": "completed"
    },
    "tags": []
   },
   "outputs": [
    {
     "data": {
      "image/png": "[encoded data removed]",
      "text/plain": [
       "<Figure size 864x432 with 1 Axes>"
      ]
     },
     "metadata": {
      "needs_background": "light"
     },
     "output_type": "display_data"
    }
   ],
   "source": [
    "#sns.set(style=\"whitegrid\", color_codes=True)\n",
    "sns.set_color_codes(\"pastel\")\n",
    "f, ax = plt.subplots(figsize=(12, 6))\n",
    "sns.barplot(x = 'shark', y = 'total_invested(lakhs)',data = shark_deals,saturation = 0.05)\n",
    "plt.title('Investment made by sharks',fontsize='14',fontweight='bold')\n",
    "plt.xlabel('Sharks', fontweight='bold', color = 'grey', fontsize='12', horizontalalignment='center')\n",
    "plt.ylabel('Total Investments (in lakhs)', fontweight='bold', color ='grey', fontsize='12', horizontalalignment='center')\n",
    "plt.show()"
   ]
  },
  {
   "cell_type": "code",
   "execution_count": 27,
   "id": "52d50248",
   "metadata": {
    "execution": {
     "iopub.execute_input": "2022-03-06T19:19:26.630165Z",
     "iopub.status.busy": "2022-03-06T19:19:26.611388Z",
     "iopub.status.idle": "2022-03-06T19:19:26.763514Z",
     "shell.execute_reply": "2022-03-06T19:19:26.764427Z",
     "shell.execute_reply.started": "2022-03-06T18:57:24.777370Z"
    },
    "papermill": {
     "duration": 0.203801,
     "end_time": "2022-03-06T19:19:26.764713",
     "exception": false,
     "start_time": "2022-03-06T19:19:26.560912",
     "status": "completed"
    },
    "tags": []
   },
   "outputs": [
    {
     "data": {
      "image/png": "[encoded data removed]",
      "text/plain": [
       "<Figure size 576x432 with 1 Axes>"
      ]
     },
     "metadata": {},
     "output_type": "display_data"
    }
   ],
   "source": [
    "labels=['Ashneer','Aman','Namita','Peyush','Vineeta','Ghazal','Anupam']\n",
    "plt.figure(figsize=(8,6))\n",
    "plt.pie(shark_deals['total_deals'],labels=labels, autopct='%0.0f%%')\n",
    "plt.title('Deals distribution among sharks',fontsize='14',fontweight='bold')\n",
    "plt.show()"
   ]
  },
  {
   "cell_type": "code",
   "execution_count": 28,
   "id": "fca07f6c",
   "metadata": {
    "execution": {
     "iopub.execute_input": "2022-03-06T19:19:26.883770Z",
     "iopub.status.busy": "2022-03-06T19:19:26.883070Z",
     "iopub.status.idle": "2022-03-06T19:19:26.887182Z",
     "shell.execute_reply": "2022-03-06T19:19:26.887715Z",
     "shell.execute_reply.started": "2022-03-06T18:46:03.568690Z"
    },
    "papermill": {
     "duration": 0.054753,
     "end_time": "2022-03-06T19:19:26.887903",
     "exception": false,
     "start_time": "2022-03-06T19:19:26.833150",
     "status": "completed"
    },
    "tags": []
   },
   "outputs": [],
   "source": [
    "top5Deals = dealDoneEps.sort_values('deal_amount',ascending=False).head(5)"
   ]
  },
  {
   "cell_type": "code",
   "execution_count": 29,
   "id": "e63d7dc7",
   "metadata": {
    "execution": {
     "iopub.execute_input": "2022-03-06T19:19:26.984578Z",
     "iopub.status.busy": "2022-03-06T19:19:26.983923Z",
     "iopub.status.idle": "2022-03-06T19:19:27.407093Z",
     "shell.execute_reply": "2022-03-06T19:19:27.407568Z",
     "shell.execute_reply.started": "2022-03-06T19:03:49.369788Z"
    },
    "papermill": {
     "duration": 0.472296,
     "end_time": "2022-03-06T19:19:27.407770",
     "exception": false,
     "start_time": "2022-03-06T19:19:26.935474",
     "status": "completed"
    },
    "tags": []
   },
   "outputs": [
    {
     "data": {
      "image/png": "[encoded data removed]",
      "text/plain": [
       "<Figure size 1008x432 with 1 Axes>"
      ]
     },
     "metadata": {
      "needs_background": "light"
     },
     "output_type": "display_data"
    }
   ],
   "source": [
    "plt.figure(figsize=(14,6))\n",
    "sns.barplot(x='idea',y='deal_amount',hue='brand_name',data=top5Deals)\n",
    "plt.title('Top 5 Deals',fontsize='14',fontweight='bold')\n",
    "plt.xlabel('Idea', fontweight='bold', fontsize='12', horizontalalignment='center')\n",
    "plt.ylabel('Deal Amount', fontweight='bold', fontsize='12', horizontalalignment='center')\n",
    "plt.legend(title='Brand Name')\n",
    "plt.show()"
   ]
  },
  {
   "cell_type": "code",
   "execution_count": 30,
   "id": "85edbed6",
   "metadata": {
    "execution": {
     "iopub.execute_input": "2022-03-06T19:19:27.538962Z",
     "iopub.status.busy": "2022-03-06T19:19:27.509916Z",
     "iopub.status.idle": "2022-03-06T19:19:27.934592Z",
     "shell.execute_reply": "2022-03-06T19:19:27.935072Z",
     "shell.execute_reply.started": "2022-03-06T19:11:37.829601Z"
    },
    "papermill": {
     "duration": 0.480928,
     "end_time": "2022-03-06T19:19:27.935241",
     "exception": false,
     "start_time": "2022-03-06T19:19:27.454313",
     "status": "completed"
    },
    "tags": []
   },
   "outputs": [
    {
     "data": {
      "image/png": "[encoded data removed]",
      "text/plain": [
       "<Figure size 1008x432 with 1 Axes>"
      ]
     },
     "metadata": {
      "needs_background": "light"
     },
     "output_type": "display_data"
    }
   ],
   "source": [
    "plt.figure(figsize=(14,6))\n",
    "sns.barplot(x='idea',y='total_sharks_invested',hue='brand_name',data=top5Deals)\n",
    "plt.title('Number of sharks invested',fontsize='14',fontweight='bold')\n",
    "plt.xlabel('Idea', fontweight='bold', fontsize='12', horizontalalignment='center')\n",
    "plt.ylabel('Sharks Invested', fontweight='bold', fontsize='12', horizontalalignment='center')\n",
    "plt.legend(title='Brand Name')\n",
    "plt.show()"
   ]
  },
  {
   "cell_type": "code",
   "execution_count": null,
   "id": "4f7667ce",
   "metadata": {
    "papermill": {
     "duration": 0.047406,
     "end_time": "2022-03-06T19:19:28.029074",
     "exception": false,
     "start_time": "2022-03-06T19:19:27.981668",
     "status": "completed"
    },
    "tags": []
   },
   "outputs": [],
   "source": []
  }
 ],
 "metadata": {
  "kernelspec": {
   "display_name": "Python 3",
   "language": "python",
   "name": "python3"
  },
  "language_info": {
   "codemirror_mode": {
    "name": "ipython",
    "version": 3
   },
   "file_extension": ".py",
   "mimetype": "text/x-python",
   "name": "python",
   "nbconvert_exporter": "python",
   "pygments_lexer": "ipython3",
   "version": "3.7.12"
  },
  "papermill": {
   "default_parameters": {},
   "duration": 16.661673,
   "end_time": "2022-03-06T19:19:28.785641",
   "environment_variables": {},
   "exception": null,
   "input_path": "__notebook__.ipynb",
   "output_path": "__notebook__.ipynb",
   "parameters": {},
   "start_time": "2022-03-06T19:19:12.123968",
   "version": "2.3.3"
  }
 },
 "nbformat": 4,
 "nbformat_minor": 5
}
